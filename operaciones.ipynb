{
 "cells": [
  {
   "cell_type": "code",
   "execution_count": 2,
   "metadata": {},
   "outputs": [
    {
     "data": {
      "text/plain": [
       "'el resultado de 3+2 es 5'"
      ]
     },
     "execution_count": 2,
     "metadata": {},
     "output_type": "execute_result"
    }
   ],
   "source": [
    "#suma\n",
    "x = 3\n",
    "y = 2\n",
    "f'el resultado de {x}+{y} es {x+y}'"
   ]
  },
  {
   "cell_type": "code",
   "execution_count": 3,
   "metadata": {},
   "outputs": [
    {
     "data": {
      "text/plain": [
       "'el resultado de 9-3.4 es 5.6'"
      ]
     },
     "execution_count": 3,
     "metadata": {},
     "output_type": "execute_result"
    }
   ],
   "source": [
    "#resta \n",
    "x = 9\n",
    "y = 3.4\n",
    "f'el resultado de {x}-{y} es {x-y}'"
   ]
  },
  {
   "cell_type": "code",
   "execution_count": 6,
   "metadata": {},
   "outputs": [
    {
     "data": {
      "text/plain": [
       "'el resultado de multiplicar 100 por 0.25 es 25'"
      ]
     },
     "execution_count": 6,
     "metadata": {},
     "output_type": "execute_result"
    }
   ],
   "source": [
    "#multiplicacion\n",
    "x = 100\n",
    "y = 0.25\n",
    "f'el resultado de multiplicar {x} por {y} es {int(x*y)}'"
   ]
  },
  {
   "cell_type": "code",
   "execution_count": 10,
   "metadata": {},
   "outputs": [
    {
     "data": {
      "text/plain": [
       "'al dividir 3 por 0.0005 obtenemos 5999.0 y su resto es 0.0004999999999999376'"
      ]
     },
     "execution_count": 10,
     "metadata": {},
     "output_type": "execute_result"
    }
   ],
   "source": [
    "#division \n",
    "x = 3\n",
    "y =0.0005\n",
    "f'al dividir {x} por {y} obtenemos {x//y} y su resto es {x%y}'"
   ]
  },
  {
   "cell_type": "code",
   "execution_count": 11,
   "metadata": {},
   "outputs": [],
   "source": [
    "# hice todo el codigo en un archivo .py como decia la tarea pero al subirlo a al repositorio el codigo se veia horrible, probe en el archivo diccionario usar la terminacion .ipynb y el codigo se veia mucho más limpio asi que tambien subí este archivo para que se cumpliera el zen de python."
   ]
  },
  {
   "cell_type": "markdown",
   "metadata": {},
   "source": [
    "# ahora a jugar "
   ]
  },
  {
   "cell_type": "code",
   "execution_count": 25,
   "metadata": {},
   "outputs": [
    {
     "name": "stdin",
     "output_type": "stream",
     "text": [
      "introduce un numero entero:  4\n",
      "introduce otro numero entero: 4\n"
     ]
    },
    {
     "name": "stdout",
     "output_type": "stream",
     "text": [
      "el resultado de 4-4 es 0\n",
      "el resultado de 4+4es 8\n",
      "el resultado de 4*4 es 16\n",
      "el resultado de 4/4 es 1.0\n",
      "el modulo de 4 y 4 es 0\n"
     ]
    }
   ],
   "source": [
    "x = int(input('introduce un numero entero: '))\n",
    "y = int(input('introduce otro numero entero:'))\n",
    "i = 0\n",
    "if i == 0:\n",
    "    print(f'el resultado de {x}-{y} es {x-y}')\n",
    "    i +=1\n",
    "if i == 1:\n",
    "    print(f'el resultado de {x}+{y}es {x+y}')\n",
    "    i += 1\n",
    "if i == 2:\n",
    "    print(f'el resultado de {x}*{y} es {x*y}')\n",
    "    i += 1\n",
    "if i == 3:\n",
    "    print(f'el resultado de {x}/{y} es {x/y}')\n",
    "    i += 1\n",
    "if i == 4:\n",
    "    print(f'el modulo de {x} y {y} es {x % y}')\n"
   ]
  },
  {
   "cell_type": "code",
   "execution_count": 27,
   "metadata": {},
   "outputs": [],
   "source": [
    "#porque al hacer el modulo con un numero menor al principio da como resultado el mismo numero?\n"
   ]
  },
  {
   "cell_type": "code",
   "execution_count": null,
   "metadata": {},
   "outputs": [],
   "source": []
  }
 ],
 "metadata": {
  "kernelspec": {
   "display_name": "Python 3",
   "language": "python",
   "name": "python3"
  },
  "language_info": {
   "codemirror_mode": {
    "name": "ipython",
    "version": 3
   },
   "file_extension": ".py",
   "mimetype": "text/x-python",
   "name": "python",
   "nbconvert_exporter": "python",
   "pygments_lexer": "ipython3",
   "version": "3.8.3"
  }
 },
 "nbformat": 4,
 "nbformat_minor": 4
}
