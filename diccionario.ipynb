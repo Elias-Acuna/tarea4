{
 "cells": [
  {
   "cell_type": "code",
   "execution_count": 5,
   "metadata": {},
   "outputs": [
    {
     "name": "stdout",
     "output_type": "stream",
     "text": [
      "nombre ('Andrea', 'Marcelo', 'Lila', 'Lenú')\n",
      "apellido ('Mercado', 'Cruzat', 'Simons', 'Greco')\n",
      "ramos ('Programación', 'Física')\n",
      "notasp (5, 2, 7, 6)\n",
      "notasf (4, 2, 7, 7)\n"
     ]
    }
   ],
   "source": [
    "diccionario = dict(nombre=('Andrea', 'Marcelo', 'Lila', 'Lenú'), apellido=('Mercado', 'Cruzat','Simons','Greco'), ramos=('Programación', 'Física'), notasp=(5, 2, 7, 6), notasf=(4, 2, 7, 7))\n",
    "for name, value in diccionario.items():\n",
    "    print(name, value)"
   ]
  },
  {
   "cell_type": "code",
   "execution_count": null,
   "metadata": {},
   "outputs": [],
   "source": []
  }
 ],
 "metadata": {
  "kernelspec": {
   "display_name": "Python 3",
   "language": "python",
   "name": "python3"
  },
  "language_info": {
   "codemirror_mode": {
    "name": "ipython",
    "version": 3
   },
   "file_extension": ".py",
   "mimetype": "text/x-python",
   "name": "python",
   "nbconvert_exporter": "python",
   "pygments_lexer": "ipython3",
   "version": "3.8.3"
  }
 },
 "nbformat": 4,
 "nbformat_minor": 4
}
